{
 "cells": [
  {
   "cell_type": "code",
   "execution_count": 1,
   "metadata": {},
   "outputs": [],
   "source": [
    "import pdf_crop\n",
    "from pdf_crop import pdf_crop_handfonts\n",
    "from img_utils import pdf_cropline"
   ]
  },
  {
   "cell_type": "code",
   "execution_count": null,
   "metadata": {},
   "outputs": [],
   "source": [
    "#아래는 예시입니다. \n",
    "# argparse사용할 수 있는 실력이 되지않아 이렇게 실행 함수 남깁니다."
   ]
  },
  {
   "cell_type": "code",
   "execution_count": 2,
   "metadata": {},
   "outputs": [
    {
     "name": "stdout",
     "output_type": "stream",
     "text": [
      "폰트 생성이 완료되었습니다.\n"
     ]
    }
   ],
   "source": [
    "a= pdf_crop_handfonts('/home/piai/Ai/project/makeme/210_template_GC.pdf','GC') # 자세한 코드 설명은 pdf_crop.py를 참고바랍니다."
   ]
  }
 ],
 "metadata": {
  "kernelspec": {
   "display_name": "Pytorch",
   "language": "python",
   "name": "pytorch"
  },
  "language_info": {
   "codemirror_mode": {
    "name": "ipython",
    "version": 3
   },
   "file_extension": ".py",
   "mimetype": "text/x-python",
   "name": "python",
   "nbconvert_exporter": "python",
   "pygments_lexer": "ipython3",
   "version": "3.7.9"
  }
 },
 "nbformat": 4,
 "nbformat_minor": 4
}
