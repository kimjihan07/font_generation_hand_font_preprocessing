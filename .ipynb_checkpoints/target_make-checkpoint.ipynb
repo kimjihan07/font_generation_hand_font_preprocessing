{
 "cells": [
  {
   "cell_type": "code",
   "execution_count": null,
   "metadata": {},
   "outputs": [],
   "source": [
    "# -*- coding: utf-8 -*-\n",
    "from __future__ import print_function\n",
    "from __future__ import absolute_import\n",
    "# import crop\n",
    "# from crop import crop_fontline, add_padding\n",
    "import argparse\n",
    "import sys\n",
    "import numpy as np\n",
    "import os\n",
    "import glob\n",
    "import cv2\n",
    "from PIL import Image\n",
    "from PIL import ImageDraw\n",
    "from PIL import ImageFont\n",
    "from PIL import ImageOps\n",
    "from PIL import ImageFilter\n",
    "from PIL import ImageEnhance\n",
    "from cv2 import bilateralFilter\n",
    "from pdf2image import convert_from_path\n",
    "from utils import normalize_image\n",
    "from matplotlib import pyplot as plt"
   ]
  },
  {
   "cell_type": "code",
   "execution_count": null,
   "metadata": {},
   "outputs": [],
   "source": [
    "def make_taret():    \n",
    "    pages =[0,1]\n",
    "    rows = 28\n",
    "    cols = 15\n",
    "    pdf_page=0\n",
    "    scr='/home/piai/Ai/project/handwriter/font_generation/font/source/NanumGothic.ttf'\n",
    "    scr_font = ImageFont.truetype(scr, size = 80)\n",
    "    x_offset = 20\n",
    "    y_offset = 20\n",
    "    charset = '/home/piai/Ai/project/makeme/random210_cha.txt'\n",
    "    charset = open(charset).read().splitlines()\n",
    "    m =0\n",
    "    for page in pages: # pages list에서 \n",
    "        if not os.path.exists(\"/home/piai/Ai/project/makeme/1target_fonts\"):# 해당 경로에 지정 폴더가 없으면 폴더 생성한다.\n",
    "            os.makedirs(\"/home/piai/Ai/project/makeme/1target_fonts\")\n",
    "\n",
    "        if pdf_page ==1:\n",
    "            for j in range(0,rows):\n",
    "                if j == 4:\n",
    "                        break\n",
    "\n",
    "                elif j % 2 == 0: # 짝수 행 타겟 소스 행\n",
    "\n",
    "                    for i in range(0, cols):\n",
    "                        ch = charset[m]\n",
    "                        target = Image.new(\"RGB\", (128,128), (255, 255, 255)).convert('L')\n",
    "                        draw = ImageDraw.Draw(target)\n",
    "                        draw.text((x_offset, y_offset), ch, (0), font=scr_font)\n",
    "                        target.save(\"/home/piai/Ai/project/makeme/1target_fonts/타겟_{}_{}_{}_cropped_img.png\".format(pdf_page,j,i))\n",
    "                        m +=1\n",
    "\n",
    "                elif j % 2 != 0: # 홀수 행 핸드라이팅 행              \n",
    "\n",
    "                    for i in range(0,cols):\n",
    "\n",
    "                        continue\n",
    "\n",
    "        else:  \n",
    "            for j in range(0,rows):\n",
    "                if j % 2 == 0: # 짝수 행 타겟 소스 행\n",
    "\n",
    "                    for i in range(0, cols):\n",
    "\n",
    "                        ch = charset[m]\n",
    "                        target = Image.new(\"RGB\", (128,128), (255, 255, 255)).convert('L')\n",
    "                        draw = ImageDraw.Draw(target)\n",
    "                        draw.text((x_offset, y_offset), ch, (0), font=scr_font)\n",
    "                        target.save(\"/home/piai/Ai/project/makeme/1target_fonts/타겟_{}_{}_{}_cropped_img.png\".format(pdf_page,j,i))\n",
    "                        m+=1\n",
    "                elif j % 2 != 0: # 홀수 행 핸드라이팅 행              \n",
    "                    for i in range(0,cols):\n",
    "                        continue                \n",
    "        pdf_page += 1\n",
    "    print('타겟폰트 생성이 완료되었습니다.')"
   ]
  },
  {
   "cell_type": "code",
   "execution_count": null,
   "metadata": {},
   "outputs": [],
   "source": [
    "a = make_taret()"
   ]
  },
  {
   "cell_type": "code",
   "execution_count": null,
   "metadata": {},
   "outputs": [],
   "source": []
  }
 ],
 "metadata": {
  "kernelspec": {
   "display_name": "Pytorch",
   "language": "python",
   "name": "pytorch"
  },
  "language_info": {
   "codemirror_mode": {
    "name": "ipython",
    "version": 3
   },
   "file_extension": ".py",
   "mimetype": "text/x-python",
   "name": "python",
   "nbconvert_exporter": "python",
   "pygments_lexer": "ipython3",
   "version": "3.7.9"
  }
 },
 "nbformat": 4,
 "nbformat_minor": 4
}
